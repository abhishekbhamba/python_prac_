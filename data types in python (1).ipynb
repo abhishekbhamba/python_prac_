{
 "cells": [
  {
   "cell_type": "markdown",
   "id": "5addf86b",
   "metadata": {},
   "source": [
    "# data types in python"
   ]
  },
  {
   "cell_type": "code",
   "execution_count": 1,
   "id": "c273d712",
   "metadata": {},
   "outputs": [],
   "source": [
    "str = \"I HAVE LEARNED PYTHON FROM ODIN SCHOOL\""
   ]
  },
  {
   "cell_type": "code",
   "execution_count": 2,
   "id": "7341014c",
   "metadata": {},
   "outputs": [
    {
     "data": {
      "text/plain": [
       "'i have learned python from odin school'"
      ]
     },
     "execution_count": 2,
     "metadata": {},
     "output_type": "execute_result"
    }
   ],
   "source": [
    "str_lower = str.lower()\n",
    "str_lower"
   ]
  },
  {
   "cell_type": "code",
   "execution_count": 3,
   "id": "8aa7a094",
   "metadata": {},
   "outputs": [
    {
     "data": {
      "text/plain": [
       "'i have learned python from odin school'"
      ]
     },
     "execution_count": 3,
     "metadata": {},
     "output_type": "execute_result"
    }
   ],
   "source": [
    "str_lower"
   ]
  },
  {
   "cell_type": "code",
   "execution_count": 4,
   "id": "3b753481",
   "metadata": {},
   "outputs": [
    {
     "data": {
      "text/plain": [
       "'I HAVE LEARNED PYTHON FROM ODIN SCHOOL'"
      ]
     },
     "execution_count": 4,
     "metadata": {},
     "output_type": "execute_result"
    }
   ],
   "source": [
    "str_lower.upper()"
   ]
  },
  {
   "cell_type": "code",
   "execution_count": 5,
   "id": "feeea002",
   "metadata": {},
   "outputs": [
    {
     "data": {
      "text/plain": [
       "'Y'"
      ]
     },
     "execution_count": 5,
     "metadata": {},
     "output_type": "execute_result"
    }
   ],
   "source": [
    "max(str)"
   ]
  },
  {
   "cell_type": "code",
   "execution_count": 8,
   "id": "2336c1cb",
   "metadata": {},
   "outputs": [
    {
     "data": {
      "text/plain": [
       "' '"
      ]
     },
     "execution_count": 8,
     "metadata": {},
     "output_type": "execute_result"
    }
   ],
   "source": [
    "min(str)"
   ]
  },
  {
   "cell_type": "code",
   "execution_count": 9,
   "id": "edb80db6",
   "metadata": {},
   "outputs": [
    {
     "name": "stdout",
     "output_type": "stream",
     "text": [
      "(1, 2, 3, 4, 5, 6, 7, 8, 9)\n"
     ]
    }
   ],
   "source": [
    "# tuple\n",
    "\n",
    "tuple1 = (1,2,3,4,5)\n",
    "tuple2 = (6,7,8,9)\n",
    "\n",
    "tuple1+=tuple2  # tuple1 + tuple2\n",
    "\n",
    "print(tuple1)"
   ]
  },
  {
   "cell_type": "code",
   "execution_count": 10,
   "id": "c1103b9c",
   "metadata": {},
   "outputs": [
    {
     "data": {
      "text/plain": [
       "(1, 2, 3, 4, 5, 6, 7, 8, 9)"
      ]
     },
     "execution_count": 10,
     "metadata": {},
     "output_type": "execute_result"
    }
   ],
   "source": [
    "tuple1"
   ]
  },
  {
   "cell_type": "code",
   "execution_count": 11,
   "id": "26a855a3",
   "metadata": {},
   "outputs": [
    {
     "data": {
      "text/plain": [
       "(1, 2, 3, 4, 5, 6, 7, 8, 9, 1, 2, 3, 4, 5, 6, 7, 8, 9)"
      ]
     },
     "execution_count": 11,
     "metadata": {},
     "output_type": "execute_result"
    }
   ],
   "source": [
    "tuple1*2"
   ]
  },
  {
   "cell_type": "code",
   "execution_count": 12,
   "id": "99a5eac8",
   "metadata": {},
   "outputs": [
    {
     "data": {
      "text/plain": [
       "tuple"
      ]
     },
     "execution_count": 12,
     "metadata": {},
     "output_type": "execute_result"
    }
   ],
   "source": [
    "tuple"
   ]
  },
  {
   "cell_type": "code",
   "execution_count": 13,
   "id": "23f919b7",
   "metadata": {},
   "outputs": [
    {
     "data": {
      "text/plain": [
       "(1, 2, 3, 4, 5, 6, 7, 8, 9)"
      ]
     },
     "execution_count": 13,
     "metadata": {},
     "output_type": "execute_result"
    }
   ],
   "source": [
    "tuple1"
   ]
  },
  {
   "cell_type": "code",
   "execution_count": 15,
   "id": "f8020be5",
   "metadata": {},
   "outputs": [
    {
     "data": {
      "text/plain": [
       "4"
      ]
     },
     "execution_count": 15,
     "metadata": {},
     "output_type": "execute_result"
    }
   ],
   "source": [
    "tuple1[3]"
   ]
  },
  {
   "cell_type": "code",
   "execution_count": 16,
   "id": "975ce958",
   "metadata": {},
   "outputs": [
    {
     "data": {
      "text/plain": [
       "(5, 6)"
      ]
     },
     "execution_count": 16,
     "metadata": {},
     "output_type": "execute_result"
    }
   ],
   "source": [
    "tuple1[4:6]"
   ]
  },
  {
   "cell_type": "code",
   "execution_count": 17,
   "id": "4a7c96af",
   "metadata": {},
   "outputs": [
    {
     "name": "stdout",
     "output_type": "stream",
     "text": [
      "[4, 5, 6, 7, 8, 9]\n"
     ]
    }
   ],
   "source": [
    "list1 = [4,5,6]\n",
    "list2 = [7,8,9]\n",
    "\n",
    "list1+=list2\n",
    "\n",
    "print(list1)"
   ]
  },
  {
   "cell_type": "code",
   "execution_count": 18,
   "id": "10d0aa24",
   "metadata": {},
   "outputs": [
    {
     "data": {
      "text/plain": [
       "[4, 5, 6, 7, 8, 9]"
      ]
     },
     "execution_count": 18,
     "metadata": {},
     "output_type": "execute_result"
    }
   ],
   "source": [
    "list1"
   ]
  },
  {
   "cell_type": "code",
   "execution_count": 19,
   "id": "266cd0f2",
   "metadata": {},
   "outputs": [
    {
     "data": {
      "text/plain": [
       "[5, 6]"
      ]
     },
     "execution_count": 19,
     "metadata": {},
     "output_type": "execute_result"
    }
   ],
   "source": [
    "list1[1:3]"
   ]
  },
  {
   "cell_type": "code",
   "execution_count": 20,
   "id": "654332e5",
   "metadata": {},
   "outputs": [],
   "source": [
    "list1 += [\"f\"] # trick to add "
   ]
  },
  {
   "cell_type": "code",
   "execution_count": 21,
   "id": "bcc8fff8",
   "metadata": {},
   "outputs": [
    {
     "data": {
      "text/plain": [
       "[4, 5, 6, 7, 8, 9, 'f']"
      ]
     },
     "execution_count": 21,
     "metadata": {},
     "output_type": "execute_result"
    }
   ],
   "source": [
    "list1"
   ]
  },
  {
   "cell_type": "code",
   "execution_count": 29,
   "id": "27d4f570",
   "metadata": {},
   "outputs": [],
   "source": [
    "list1.append([\"i\",\"c\"])  # in append if we add two elements then it shows in another bracket"
   ]
  },
  {
   "cell_type": "code",
   "execution_count": 30,
   "id": "c41876f2",
   "metadata": {},
   "outputs": [
    {
     "data": {
      "text/plain": [
       "[4, 5, 6, 7, 8, 9, 'f', 'i', 'p', 'i', ['i', 'c']]"
      ]
     },
     "execution_count": 30,
     "metadata": {},
     "output_type": "execute_result"
    }
   ],
   "source": [
    "list1"
   ]
  },
  {
   "cell_type": "code",
   "execution_count": 32,
   "id": "2f506ecf",
   "metadata": {},
   "outputs": [],
   "source": [
    "list1.extend([\"p\",\"m\"])  # extend show the list in one "
   ]
  },
  {
   "cell_type": "code",
   "execution_count": 33,
   "id": "0f760adb",
   "metadata": {},
   "outputs": [
    {
     "data": {
      "text/plain": [
       "[4, 5, 6, 7, 8, 9, 'f', 'i', 'p', 'i', ['i', 'c'], 'p', 'm']"
      ]
     },
     "execution_count": 33,
     "metadata": {},
     "output_type": "execute_result"
    }
   ],
   "source": [
    "list1"
   ]
  },
  {
   "cell_type": "code",
   "execution_count": 34,
   "id": "738c4972",
   "metadata": {},
   "outputs": [
    {
     "data": {
      "text/plain": [
       "[4, 5, 6, 7, 8, 9, 'f', 'i', 'p', 'i', ['i', 'c'], 'p', 'm']"
      ]
     },
     "execution_count": 34,
     "metadata": {},
     "output_type": "execute_result"
    }
   ],
   "source": [
    "list1"
   ]
  },
  {
   "cell_type": "code",
   "execution_count": 36,
   "id": "72cc47bf",
   "metadata": {},
   "outputs": [],
   "source": [
    "list1.insert(2,\"h\")"
   ]
  },
  {
   "cell_type": "code",
   "execution_count": 37,
   "id": "e1957df8",
   "metadata": {},
   "outputs": [
    {
     "data": {
      "text/plain": [
       "[4, 5, 'h', 6, 7, 8, 9, 'f', 'i', 'p', 'i', ['i', 'c'], 'p', 'm']"
      ]
     },
     "execution_count": 37,
     "metadata": {},
     "output_type": "execute_result"
    }
   ],
   "source": [
    "list1"
   ]
  },
  {
   "cell_type": "code",
   "execution_count": 38,
   "id": "759e1e29",
   "metadata": {},
   "outputs": [],
   "source": [
    "dict = {}"
   ]
  },
  {
   "cell_type": "code",
   "execution_count": 39,
   "id": "49f7c979",
   "metadata": {},
   "outputs": [
    {
     "name": "stdout",
     "output_type": "stream",
     "text": [
      "{}\n"
     ]
    }
   ],
   "source": [
    "print(dict)"
   ]
  },
  {
   "cell_type": "code",
   "execution_count": 41,
   "id": "27f07939",
   "metadata": {},
   "outputs": [
    {
     "name": "stdout",
     "output_type": "stream",
     "text": [
      "{1: 'string1', 2: 'strig2', 3: 'string3'}\n"
     ]
    }
   ],
   "source": [
    "dict1 = {1:\"string1\", 2:\"strig2\", 3:\"string3\"}\n",
    "\n",
    "print(dict1)"
   ]
  },
  {
   "cell_type": "code",
   "execution_count": 43,
   "id": "e45015cf",
   "metadata": {},
   "outputs": [
    {
     "data": {
      "text/plain": [
       "dict_keys([1, 2, 3])"
      ]
     },
     "execution_count": 43,
     "metadata": {},
     "output_type": "execute_result"
    }
   ],
   "source": [
    "dict1.keys()"
   ]
  },
  {
   "cell_type": "code",
   "execution_count": 45,
   "id": "05983c14",
   "metadata": {},
   "outputs": [
    {
     "data": {
      "text/plain": [
       "3"
      ]
     },
     "execution_count": 45,
     "metadata": {},
     "output_type": "execute_result"
    }
   ],
   "source": [
    "len(dict1)"
   ]
  },
  {
   "cell_type": "code",
   "execution_count": 46,
   "id": "02fb2f32",
   "metadata": {},
   "outputs": [
    {
     "data": {
      "text/plain": [
       "dict_values(['string1', 'strig2', 'string3'])"
      ]
     },
     "execution_count": 46,
     "metadata": {},
     "output_type": "execute_result"
    }
   ],
   "source": [
    "dict1.values()"
   ]
  },
  {
   "cell_type": "code",
   "execution_count": 51,
   "id": "65a3aeaf",
   "metadata": {},
   "outputs": [
    {
     "data": {
      "text/plain": [
       "{'a', 'b', 'c', 'd', 'e', 'g', 'h'}"
      ]
     },
     "execution_count": 51,
     "metadata": {},
     "output_type": "execute_result"
    }
   ],
   "source": [
    "set = {\"a\",\"b\",\"c\",\"d\"}\n",
    "set1 = {\"e\",\"b\",\"g\",\"h\"}\n",
    "\n",
    "set | set1  # union"
   ]
  },
  {
   "cell_type": "code",
   "execution_count": 53,
   "id": "c04bc613",
   "metadata": {},
   "outputs": [
    {
     "data": {
      "text/plain": [
       "{'b'}"
      ]
     },
     "execution_count": 53,
     "metadata": {},
     "output_type": "execute_result"
    }
   ],
   "source": [
    "set & set1 # intersection"
   ]
  },
  {
   "cell_type": "code",
   "execution_count": 55,
   "id": "e51495b7",
   "metadata": {},
   "outputs": [
    {
     "data": {
      "text/plain": [
       "{'a', 'c', 'd'}"
      ]
     },
     "execution_count": 55,
     "metadata": {},
     "output_type": "execute_result"
    }
   ],
   "source": [
    "set - set1 # diiference"
   ]
  },
  {
   "cell_type": "code",
   "execution_count": 56,
   "id": "6c605a24",
   "metadata": {},
   "outputs": [
    {
     "data": {
      "text/plain": [
       "{'a', 'c', 'd'}"
      ]
     },
     "execution_count": 56,
     "metadata": {},
     "output_type": "execute_result"
    }
   ],
   "source": [
    "set.difference(set1)"
   ]
  },
  {
   "cell_type": "markdown",
   "id": "f2a07188",
   "metadata": {},
   "source": [
    "# python function call"
   ]
  },
  {
   "cell_type": "code",
   "execution_count": 11,
   "id": "481ed547",
   "metadata": {},
   "outputs": [
    {
     "name": "stdout",
     "output_type": "stream",
     "text": [
      "value of b is 10\n",
      "value of new b is 100\n"
     ]
    }
   ],
   "source": [
    "a=10\n",
    "def changeit(b):\n",
    "    print(\"value of b is\",b)\n",
    "    b=100\n",
    "    print(\"value of new b is\",b)\n",
    "changeit(a)"
   ]
  },
  {
   "cell_type": "code",
   "execution_count": 12,
   "id": "f05da8a4",
   "metadata": {},
   "outputs": [
    {
     "name": "stdout",
     "output_type": "stream",
     "text": [
      "value of d is [10, 20, 30]\n",
      "ne value of d is [99, 96, 30]\n"
     ]
    }
   ],
   "source": [
    "c=[10,20,30]\n",
    "def changethem(d):\n",
    "    print(\"value of d is\",d)\n",
    "    d[0]=99\n",
    "    d[1]=96\n",
    "    print(\"ne value of d is\",d)\n",
    "changethem(c)"
   ]
  },
  {
   "cell_type": "code",
   "execution_count": 13,
   "id": "e73fc9d3",
   "metadata": {},
   "outputs": [
    {
     "name": "stdout",
     "output_type": "stream",
     "text": [
      "value of m is 20\n",
      "value of new m is 200\n"
     ]
    }
   ],
   "source": [
    "a=20\n",
    "def changeif(m):\n",
    "    print(\"value of m is\",m)\n",
    "    m=200\n",
    "    print(\"value of new m is\",m)\n",
    "changeif(a)"
   ]
  },
  {
   "cell_type": "code",
   "execution_count": 14,
   "id": "ad6e381c",
   "metadata": {},
   "outputs": [
    {
     "name": "stdout",
     "output_type": "stream",
     "text": [
      "value of k is [100, 200, 300, 500]\n",
      "value of new k is [900, 200, 300, 1000]\n"
     ]
    }
   ],
   "source": [
    "z=[100,200,300,500]\n",
    "def change(k):\n",
    "    print(\"value of k is\",k)\n",
    "    k[0]=900\n",
    "    k[3]=1000\n",
    "    print(\"value of new k is\",k)\n",
    "change(z)"
   ]
  },
  {
   "cell_type": "code",
   "execution_count": 16,
   "id": "403b1f6f",
   "metadata": {},
   "outputs": [],
   "source": [
    "def my_function(fname,lname):\n",
    "    print(f'first name is {fname} and last name is {lname}')"
   ]
  },
  {
   "cell_type": "code",
   "execution_count": 18,
   "id": "ecefba2d",
   "metadata": {},
   "outputs": [
    {
     "name": "stdout",
     "output_type": "stream",
     "text": [
      "first name is abhishek and last name is bhambak\n"
     ]
    }
   ],
   "source": [
    "my_function(\"abhishek\",\"bhambak\")"
   ]
  },
  {
   "cell_type": "code",
   "execution_count": 21,
   "id": "93e73028",
   "metadata": {},
   "outputs": [
    {
     "ename": "SyntaxError",
     "evalue": "invalid syntax (<ipython-input-21-586e2d0f1812>, line 2)",
     "output_type": "error",
     "traceback": [
      "\u001b[1;36m  File \u001b[1;32m\"<ipython-input-21-586e2d0f1812>\"\u001b[1;36m, line \u001b[1;32m2\u001b[0m\n\u001b[1;33m    __init__(self,name,last,clas):\u001b[0m\n\u001b[1;37m                                  ^\u001b[0m\n\u001b[1;31mSyntaxError\u001b[0m\u001b[1;31m:\u001b[0m invalid syntax\n"
     ]
    }
   ],
   "source": [
    "class student:\n",
    "    __init__(self,name,last,clas):\n",
    "        self.name=name\n",
    "        self.last=last\n",
    "        self.clas=clas\n",
    "    def participated(self):\n",
    "        print(\"yes! they are well qualified student\")\n",
    "h=student()"
   ]
  },
  {
   "cell_type": "code",
   "execution_count": 22,
   "id": "bc453e11",
   "metadata": {},
   "outputs": [],
   "source": [
    "def my_functions():\n",
    "    d=10\n",
    "    d+=1\n",
    "    print(d)"
   ]
  },
  {
   "cell_type": "code",
   "execution_count": 24,
   "id": "caf395b0",
   "metadata": {},
   "outputs": [
    {
     "name": "stdout",
     "output_type": "stream",
     "text": [
      "6\n"
     ]
    }
   ],
   "source": [
    "fruits=[\"apple\",\"mango\",\"banana\",\"cherry\",\"dragon fruit\"]\n",
    "if \"mango\" in fruits:\n",
    "    print (3+3)\n",
    "else:\n",
    "    print (2*2)"
   ]
  },
  {
   "cell_type": "markdown",
   "id": "044a469f",
   "metadata": {},
   "source": [
    "# lambda"
   ]
  },
  {
   "cell_type": "code",
   "execution_count": 25,
   "id": "e7c4e24a",
   "metadata": {},
   "outputs": [
    {
     "name": "stdout",
     "output_type": "stream",
     "text": [
      "15\n"
     ]
    }
   ],
   "source": [
    "x=lambda a: a+10\n",
    "print(x(5))"
   ]
  },
  {
   "cell_type": "code",
   "execution_count": 26,
   "id": "3ff5f749",
   "metadata": {},
   "outputs": [
    {
     "name": "stdout",
     "output_type": "stream",
     "text": [
      "8\n"
     ]
    }
   ],
   "source": [
    "y=lambda a: a*2\n",
    "print(y(4))"
   ]
  },
  {
   "cell_type": "code",
   "execution_count": 27,
   "id": "b0744483",
   "metadata": {},
   "outputs": [],
   "source": [
    "def multiply(x,y):\n",
    "    print (x+y)"
   ]
  },
  {
   "cell_type": "code",
   "execution_count": 29,
   "id": "de629c83",
   "metadata": {},
   "outputs": [
    {
     "name": "stdout",
     "output_type": "stream",
     "text": [
      "10\n"
     ]
    }
   ],
   "source": [
    "multiply(3,7)"
   ]
  },
  {
   "cell_type": "code",
   "execution_count": 31,
   "id": "77f12f48",
   "metadata": {},
   "outputs": [
    {
     "data": {
      "text/plain": [
       "5"
      ]
     },
     "execution_count": 31,
     "metadata": {},
     "output_type": "execute_result"
    }
   ],
   "source": [
    "r=lambda x,y: x+y\n",
    "r(2,3)"
   ]
  },
  {
   "cell_type": "code",
   "execution_count": 32,
   "id": "17163c18",
   "metadata": {},
   "outputs": [
    {
     "data": {
      "text/plain": [
       "24"
      ]
     },
     "execution_count": 32,
     "metadata": {},
     "output_type": "execute_result"
    }
   ],
   "source": [
    "r(12,12)"
   ]
  },
  {
   "cell_type": "code",
   "execution_count": 33,
   "id": "e5e44f5f",
   "metadata": {},
   "outputs": [
    {
     "name": "stdout",
     "output_type": "stream",
     "text": [
      "13\n"
     ]
    }
   ],
   "source": [
    "def myfunc(n):\n",
    "    return lambda a: a+n\n",
    "\n",
    "mysum=myfunc(3)\n",
    "print(mysum(10))"
   ]
  },
  {
   "cell_type": "code",
   "execution_count": 34,
   "id": "74ac8150",
   "metadata": {},
   "outputs": [
    {
     "name": "stdout",
     "output_type": "stream",
     "text": [
      "25\n"
     ]
    }
   ],
   "source": [
    "def my_function(x):\n",
    "    return lambda a: a+x\n",
    "\n",
    "myval=my_function(5)\n",
    "print(myval(20))"
   ]
  },
  {
   "cell_type": "code",
   "execution_count": 36,
   "id": "c3110550",
   "metadata": {},
   "outputs": [
    {
     "name": "stdout",
     "output_type": "stream",
     "text": [
      "6\n"
     ]
    }
   ],
   "source": [
    "g=lambda a,b,c: a+b+c\n",
    "print(g(1,2,3))"
   ]
  },
  {
   "cell_type": "code",
   "execution_count": 1,
   "id": "e9027ed8",
   "metadata": {},
   "outputs": [
    {
     "name": "stdout",
     "output_type": "stream",
     "text": [
      "22\n"
     ]
    }
   ],
   "source": [
    "def my_func(n):\n",
    "    return lambda a: a*n\n",
    "double=my_func(2)\n",
    "print(double(11))"
   ]
  },
  {
   "cell_type": "markdown",
   "id": "77e9e637",
   "metadata": {},
   "source": [
    "# creating array"
   ]
  },
  {
   "cell_type": "code",
   "execution_count": 2,
   "id": "3ca63016",
   "metadata": {},
   "outputs": [],
   "source": [
    "import numpy as np"
   ]
  },
  {
   "cell_type": "code",
   "execution_count": 13,
   "id": "4d95e4f7",
   "metadata": {},
   "outputs": [
    {
     "name": "stdout",
     "output_type": "stream",
     "text": [
      "[1 2 3]\n",
      "[1 2 3]\n"
     ]
    }
   ],
   "source": [
    "a=np.array([1,2,3])\n",
    "b=np.array((1,2,3))\n",
    "print(a)\n",
    "print(b)"
   ]
  },
  {
   "cell_type": "code",
   "execution_count": 15,
   "id": "e9322ebf",
   "metadata": {},
   "outputs": [
    {
     "name": "stdout",
     "output_type": "stream",
     "text": [
      "[[1 2 3]\n",
      " [4 5 6]]\n"
     ]
    }
   ],
   "source": [
    "c=np.array([[1,2,3],[4,5,6]])\n",
    "print(c)"
   ]
  },
  {
   "cell_type": "code",
   "execution_count": 17,
   "id": "1e969b83",
   "metadata": {},
   "outputs": [
    {
     "data": {
      "text/plain": [
       "(2, 3)"
      ]
     },
     "execution_count": 17,
     "metadata": {},
     "output_type": "execute_result"
    }
   ],
   "source": [
    "c.shape"
   ]
  },
  {
   "cell_type": "code",
   "execution_count": 18,
   "id": "5a258012",
   "metadata": {},
   "outputs": [
    {
     "data": {
      "text/plain": [
       "array([1, 2, 3])"
      ]
     },
     "execution_count": 18,
     "metadata": {},
     "output_type": "execute_result"
    }
   ],
   "source": [
    "c[0]"
   ]
  },
  {
   "cell_type": "code",
   "execution_count": 19,
   "id": "6c56c68c",
   "metadata": {},
   "outputs": [
    {
     "data": {
      "text/plain": [
       "array([4, 5, 6])"
      ]
     },
     "execution_count": 19,
     "metadata": {},
     "output_type": "execute_result"
    }
   ],
   "source": [
    "c[1]"
   ]
  },
  {
   "cell_type": "code",
   "execution_count": 20,
   "id": "bcd56b18",
   "metadata": {},
   "outputs": [
    {
     "data": {
      "text/plain": [
       "array([[1, 2, 3]])"
      ]
     },
     "execution_count": 20,
     "metadata": {},
     "output_type": "execute_result"
    }
   ],
   "source": [
    "c[:1]"
   ]
  },
  {
   "cell_type": "code",
   "execution_count": 21,
   "id": "df2d9d64",
   "metadata": {},
   "outputs": [
    {
     "data": {
      "text/plain": [
       "numpy.ndarray"
      ]
     },
     "execution_count": 21,
     "metadata": {},
     "output_type": "execute_result"
    }
   ],
   "source": [
    "type(a)"
   ]
  },
  {
   "cell_type": "code",
   "execution_count": 22,
   "id": "b829379d",
   "metadata": {},
   "outputs": [
    {
     "data": {
      "text/plain": [
       "array([[4, 5, 6]])"
      ]
     },
     "execution_count": 22,
     "metadata": {},
     "output_type": "execute_result"
    }
   ],
   "source": [
    "c[1:]"
   ]
  },
  {
   "cell_type": "code",
   "execution_count": 26,
   "id": "3b7d5b4f",
   "metadata": {},
   "outputs": [
    {
     "data": {
      "text/plain": [
       "array([[0., 0., 0., 0.],\n",
       "       [0., 0., 0., 0.],\n",
       "       [0., 0., 0., 0.]])"
      ]
     },
     "execution_count": 26,
     "metadata": {},
     "output_type": "execute_result"
    }
   ],
   "source": [
    "np.zeros((3,4))"
   ]
  },
  {
   "cell_type": "code",
   "execution_count": 27,
   "id": "81740847",
   "metadata": {},
   "outputs": [
    {
     "data": {
      "text/plain": [
       "array([[0., 0.],\n",
       "       [0., 0.]])"
      ]
     },
     "execution_count": 27,
     "metadata": {},
     "output_type": "execute_result"
    }
   ],
   "source": [
    "np.zeros((2,2))"
   ]
  },
  {
   "cell_type": "code",
   "execution_count": 30,
   "id": "f7751d30",
   "metadata": {},
   "outputs": [
    {
     "data": {
      "text/plain": [
       "array([10, 15, 20])"
      ]
     },
     "execution_count": 30,
     "metadata": {},
     "output_type": "execute_result"
    }
   ],
   "source": [
    "np.arange(10,25,5)"
   ]
  },
  {
   "cell_type": "code",
   "execution_count": 31,
   "id": "c99a695b",
   "metadata": {},
   "outputs": [
    {
     "data": {
      "text/plain": [
       "array([5, 8])"
      ]
     },
     "execution_count": 31,
     "metadata": {},
     "output_type": "execute_result"
    }
   ],
   "source": [
    "np.arange(5,10,3)"
   ]
  },
  {
   "cell_type": "code",
   "execution_count": 32,
   "id": "9579eb2b",
   "metadata": {},
   "outputs": [
    {
     "data": {
      "text/plain": [
       "array([ 5.        ,  5.55555556,  6.11111111,  6.66666667,  7.22222222,\n",
       "        7.77777778,  8.33333333,  8.88888889,  9.44444444, 10.        ])"
      ]
     },
     "execution_count": 32,
     "metadata": {},
     "output_type": "execute_result"
    }
   ],
   "source": [
    "np.linspace(5,10,10)"
   ]
  },
  {
   "cell_type": "code",
   "execution_count": 33,
   "id": "39a5cc9f",
   "metadata": {},
   "outputs": [
    {
     "data": {
      "text/plain": [
       "array([[6, 6],\n",
       "       [6, 6]])"
      ]
     },
     "execution_count": 33,
     "metadata": {},
     "output_type": "execute_result"
    }
   ],
   "source": [
    "np.full((2,2),6)"
   ]
  },
  {
   "cell_type": "code",
   "execution_count": 34,
   "id": "fb58d828",
   "metadata": {},
   "outputs": [
    {
     "data": {
      "text/plain": [
       "array([[5, 5, 5, 5, 5],\n",
       "       [5, 5, 5, 5, 5],\n",
       "       [5, 5, 5, 5, 5],\n",
       "       [5, 5, 5, 5, 5],\n",
       "       [5, 5, 5, 5, 5]])"
      ]
     },
     "execution_count": 34,
     "metadata": {},
     "output_type": "execute_result"
    }
   ],
   "source": [
    "np.full((5,5),5)"
   ]
  },
  {
   "cell_type": "code",
   "execution_count": 35,
   "id": "67936c96",
   "metadata": {},
   "outputs": [
    {
     "data": {
      "text/plain": [
       "array([[0.62394223, 0.28509623, 0.77430792],\n",
       "       [0.55113364, 0.19271613, 0.04498175],\n",
       "       [0.63825396, 0.64170176, 0.60801982]])"
      ]
     },
     "execution_count": 35,
     "metadata": {},
     "output_type": "execute_result"
    }
   ],
   "source": [
    "np.random.random((3,3))"
   ]
  },
  {
   "cell_type": "code",
   "execution_count": 41,
   "id": "159d1014",
   "metadata": {},
   "outputs": [
    {
     "name": "stdout",
     "output_type": "stream",
     "text": [
      "[1 1]\n"
     ]
    }
   ],
   "source": [
    "k=np.random.randint((3,3))\n",
    "print(k)"
   ]
  },
  {
   "cell_type": "code",
   "execution_count": 42,
   "id": "088bb3cb",
   "metadata": {},
   "outputs": [
    {
     "name": "stdout",
     "output_type": "stream",
     "text": [
      "[[1 2 3 4]\n",
      " [0 9 8 7]]\n"
     ]
    }
   ],
   "source": [
    "w=np.array([[1,2,3,4],[0,9,8,7]])\n",
    "print(w)"
   ]
  },
  {
   "cell_type": "code",
   "execution_count": 43,
   "id": "1abbde5a",
   "metadata": {},
   "outputs": [
    {
     "data": {
      "text/plain": [
       "(2, 4)"
      ]
     },
     "execution_count": 43,
     "metadata": {},
     "output_type": "execute_result"
    }
   ],
   "source": [
    "w.shape"
   ]
  },
  {
   "cell_type": "code",
   "execution_count": 47,
   "id": "6d59edd4",
   "metadata": {},
   "outputs": [
    {
     "data": {
      "text/plain": [
       "4"
      ]
     },
     "execution_count": 47,
     "metadata": {},
     "output_type": "execute_result"
    }
   ],
   "source": [
    "w.shape=(4,2)\n",
    "w.shape[0]"
   ]
  },
  {
   "cell_type": "code",
   "execution_count": 48,
   "id": "2e06fd68",
   "metadata": {},
   "outputs": [
    {
     "data": {
      "text/plain": [
       "array([[1, 2],\n",
       "       [3, 4],\n",
       "       [0, 9],\n",
       "       [8, 7]])"
      ]
     },
     "execution_count": 48,
     "metadata": {},
     "output_type": "execute_result"
    }
   ],
   "source": [
    "w"
   ]
  },
  {
   "cell_type": "code",
   "execution_count": 49,
   "id": "1f915312",
   "metadata": {},
   "outputs": [
    {
     "data": {
      "text/plain": [
       "4"
      ]
     },
     "execution_count": 49,
     "metadata": {},
     "output_type": "execute_result"
    }
   ],
   "source": [
    "w.shape=(2,4)\n",
    "w.shape[1]"
   ]
  },
  {
   "cell_type": "code",
   "execution_count": 50,
   "id": "2691f29f",
   "metadata": {},
   "outputs": [
    {
     "data": {
      "text/plain": [
       "array([[1, 2, 3, 4],\n",
       "       [0, 9, 8, 7]])"
      ]
     },
     "execution_count": 50,
     "metadata": {},
     "output_type": "execute_result"
    }
   ],
   "source": [
    "w"
   ]
  },
  {
   "cell_type": "code",
   "execution_count": 51,
   "id": "81f780e7",
   "metadata": {},
   "outputs": [
    {
     "data": {
      "text/plain": [
       "array([ 0,  1,  2,  3,  4,  5,  6,  7,  8,  9, 10, 11, 12, 13, 14, 15, 16,\n",
       "       17, 18, 19, 20, 21, 22, 23, 24, 25, 26, 27, 28, 29])"
      ]
     },
     "execution_count": 51,
     "metadata": {},
     "output_type": "execute_result"
    }
   ],
   "source": [
    "np.arange(30)"
   ]
  },
  {
   "cell_type": "code",
   "execution_count": 52,
   "id": "6e8a57d1",
   "metadata": {},
   "outputs": [
    {
     "data": {
      "text/plain": [
       "8"
      ]
     },
     "execution_count": 52,
     "metadata": {},
     "output_type": "execute_result"
    }
   ],
   "source": [
    "w.size"
   ]
  },
  {
   "cell_type": "code",
   "execution_count": 53,
   "id": "55be2c4e",
   "metadata": {},
   "outputs": [
    {
     "data": {
      "text/plain": [
       "2"
      ]
     },
     "execution_count": 53,
     "metadata": {},
     "output_type": "execute_result"
    }
   ],
   "source": [
    "w.ndim"
   ]
  },
  {
   "cell_type": "code",
   "execution_count": 54,
   "id": "69a8ca02",
   "metadata": {},
   "outputs": [
    {
     "data": {
      "text/plain": [
       "array([1, 2, 3])"
      ]
     },
     "execution_count": 54,
     "metadata": {},
     "output_type": "execute_result"
    }
   ],
   "source": [
    "a"
   ]
  },
  {
   "cell_type": "code",
   "execution_count": 55,
   "id": "ecdd37e9",
   "metadata": {},
   "outputs": [
    {
     "data": {
      "text/plain": [
       "array([1, 2, 3])"
      ]
     },
     "execution_count": 55,
     "metadata": {},
     "output_type": "execute_result"
    }
   ],
   "source": [
    "b"
   ]
  },
  {
   "cell_type": "code",
   "execution_count": 58,
   "id": "bf50b179",
   "metadata": {},
   "outputs": [
    {
     "data": {
      "text/plain": [
       "dtype('int32')"
      ]
     },
     "execution_count": 58,
     "metadata": {},
     "output_type": "execute_result"
    }
   ],
   "source": [
    "a.dtype"
   ]
  },
  {
   "cell_type": "code",
   "execution_count": 59,
   "id": "4ad00899",
   "metadata": {},
   "outputs": [
    {
     "data": {
      "text/plain": [
       "dtype('int32')"
      ]
     },
     "execution_count": 59,
     "metadata": {},
     "output_type": "execute_result"
    }
   ],
   "source": [
    "b.dtype"
   ]
  },
  {
   "cell_type": "code",
   "execution_count": null,
   "id": "8b0959c8",
   "metadata": {},
   "outputs": [],
   "source": []
  }
 ],
 "metadata": {
  "kernelspec": {
   "display_name": "Python 3",
   "language": "python",
   "name": "python3"
  },
  "language_info": {
   "codemirror_mode": {
    "name": "ipython",
    "version": 3
   },
   "file_extension": ".py",
   "mimetype": "text/x-python",
   "name": "python",
   "nbconvert_exporter": "python",
   "pygments_lexer": "ipython3",
   "version": "3.8.8"
  }
 },
 "nbformat": 4,
 "nbformat_minor": 5
}
